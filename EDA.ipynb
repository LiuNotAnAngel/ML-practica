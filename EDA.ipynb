import pandas as pd

#%%
df = pd.read_csv("C:\\Users\\liuji\\OneDrive\\Escritorio\\covtype.csv")
df.head()
#%%
print("Dataset (numéro de muestras y características): "+ str(df.shape))

#%%
df.describe().T #columns with value's rango between 1 and 0 are categorical. Soil_Type y Wilderness_Area are categoric dates:  1 2 3 4 ... --> one hot coded :)
#%%
df.info() #no null or NaN values, all values are numeric , 55 col for training, 54 for testing, coverType is the last column so it's the target column. 
#%%
# Verificar que las columnas binarias solo contengan 0 y 1 para detectar ruidos, y qué hago para otras columnas 
columnas_binarias = [col for col in df.columns if df[col].nunique() == 2]
noHayRuido = True
for col in columnas_binarias:
    valores_unicos = df[col].unique()
    if not set(valores_unicos).issubset({0, 1}):
        print(f"Ruido detectado en la columna '{col}': valores únicos -> {valores_unicos}")
        noHayRuido = False
    
if noHayRuido:
    print("No hay ruidos en columnas binarias")
